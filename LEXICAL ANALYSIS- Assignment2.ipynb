{
 "cells": [
  {
   "cell_type": "code",
   "execution_count": 1,
   "id": "9141a7a2",
   "metadata": {},
   "outputs": [
    {
     "name": "stdout",
     "output_type": "stream",
     "text": [
      "Enter your Tcl code (press Enter twice to finish input):\n",
      "set name \"abc\" puts \"Hello, $name!\" set age 56\n",
      "\n",
      "[('IDENTIFIER', 'set'), ('IDENTIFIER', 'name'), ('STRING', '\"abc\"'), ('IDENTIFIER', 'puts'), ('STRING', '\"Hello, $name!\"'), ('IDENTIFIER', 'set'), ('IDENTIFIER', 'age'), ('NUMBER', '56')]\n",
      "Tokens saved in file: file1.csv\n"
     ]
    }
   ],
   "source": [
    "import csv\n",
    "import re\n",
    "import os.path\n",
    "\n",
    "class TclSyntaxError(Exception):\n",
    "    pass\n",
    "\n",
    "def tokenize(code):\n",
    "    patterns = [\n",
    "        ('COMMENT', r'#.*'),\n",
    "        ('STRING', r'\"(?:\\\\\"|.)*?\"'),\n",
    "        ('VARIABLE', r'\\$\\w+'),\n",
    "        ('NUMBER', r'\\d+'),\n",
    "        ('OPERATOR', r'[+\\-*/]'),\n",
    "        ('LEFT_PAREN', r'\\('),\n",
    "        ('RIGHT_PAREN', r'\\)'),\n",
    "        ('WHITESPACE', r'\\s+'),\n",
    "        ('IDENTIFIER', r'\\w+'),\n",
    "        ('NEWLINE', r'\\n'),\n",
    "    ]\n",
    "    regex = '|'.join('(?P<%s>%s)' % pair for pair in patterns)\n",
    "    tokens = []\n",
    "    for match in re.finditer(regex, code):\n",
    "        kind = match.lastgroup\n",
    "        value = match.group(kind)\n",
    "        if kind == 'COMMENT':\n",
    "            continue\n",
    "        elif kind == 'WHITESPACE':\n",
    "            continue\n",
    "        elif kind == 'NEWLINE':\n",
    "            continue\n",
    "        elif kind not in ['COMMENT', 'STRING', 'VARIABLE', 'NUMBER', 'OPERATOR',\n",
    "                          'LEFT_PAREN', 'RIGHT_PAREN', 'WHITESPACE', 'IDENTIFIER', 'NEWLINE']:\n",
    "            raise TclSyntaxError(f\"Invalid syntax: Unknown token '{value}'\")\n",
    "            break\n",
    "        else:\n",
    "            tokens.append((kind, value))\n",
    "    return tokens\n",
    "\n",
    "\n",
    "tcl_input = []\n",
    "print(\"Enter your Tcl code (press Enter twice to finish input):\")\n",
    "while True:\n",
    "    line = input()\n",
    "    if line == '':\n",
    "        break\n",
    "    tcl_input.append(line)\n",
    "tcl_input = '\\n'.join(tcl_input)\n",
    "\n",
    "counter = 1\n",
    "while True:\n",
    "    filename = f\"file{counter}.csv\"\n",
    "    if os.path.exists(filename):\n",
    "        counter += 1\n",
    "    else:\n",
    "        try:\n",
    "            tokens = tokenize(tcl_input)\n",
    "            print(tokens)\n",
    "            with open(filename, 'w', newline='') as csvfile:\n",
    "                writer = csv.writer(csvfile)\n",
    "                writer.writerow(['Token', 'Value'])\n",
    "                writer.writerows(tokens)\n",
    "            print(f\"Tokens saved in file: {filename}\")\n",
    "        except TclSyntaxError as e:\n",
    "            print(e)\n",
    "        break"
   ]
  },
  {
   "cell_type": "code",
   "execution_count": null,
   "id": "cd7ebd3e",
   "metadata": {},
   "outputs": [],
   "source": []
  },
  {
   "cell_type": "code",
   "execution_count": null,
   "id": "8e6ffbcc",
   "metadata": {},
   "outputs": [],
   "source": []
  },
  {
   "cell_type": "code",
   "execution_count": null,
   "id": "593a09aa",
   "metadata": {},
   "outputs": [],
   "source": []
  },
  {
   "cell_type": "code",
   "execution_count": null,
   "id": "76fd6b63",
   "metadata": {},
   "outputs": [],
   "source": []
  }
 ],
 "metadata": {
  "kernelspec": {
   "display_name": "Python 3 (ipykernel)",
   "language": "python",
   "name": "python3"
  },
  "language_info": {
   "codemirror_mode": {
    "name": "ipython",
    "version": 3
   },
   "file_extension": ".py",
   "mimetype": "text/x-python",
   "name": "python",
   "nbconvert_exporter": "python",
   "pygments_lexer": "ipython3",
   "version": "3.9.13"
  }
 },
 "nbformat": 4,
 "nbformat_minor": 5
}
